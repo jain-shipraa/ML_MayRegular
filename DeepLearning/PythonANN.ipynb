{
 "cells": [
  {
   "cell_type": "code",
   "execution_count": 1,
   "metadata": {},
   "outputs": [],
   "source": [
    "import numpy as np"
   ]
  },
  {
   "cell_type": "code",
   "execution_count": 2,
   "metadata": {},
   "outputs": [],
   "source": [
    "#Input array\n",
    "X=np.array([[1,0,1,0],[1,0,1,1],[0,1,0,1]])\n",
    "#Output\n",
    "y=np.array([[1],[1],[0]])"
   ]
  },
  {
   "cell_type": "code",
   "execution_count": 3,
   "metadata": {},
   "outputs": [],
   "source": [
    "def sigmoid(x):\n",
    "    return 1 / (1 + np.exp(-x))"
   ]
  },
  {
   "cell_type": "code",
   "execution_count": 4,
   "metadata": {},
   "outputs": [],
   "source": [
    "def derivativeSigmoid(x):\n",
    "    return x * (1 - x)"
   ]
  },
  {
   "cell_type": "code",
   "execution_count": 5,
   "metadata": {},
   "outputs": [
    {
     "data": {
      "text/plain": [
       "(3, 4)"
      ]
     },
     "execution_count": 5,
     "metadata": {},
     "output_type": "execute_result"
    }
   ],
   "source": [
    "X.shape"
   ]
  },
  {
   "cell_type": "code",
   "execution_count": 45,
   "metadata": {},
   "outputs": [],
   "source": [
    "inputNeurons = X.shape[1]\n",
    "hiddenNeurons = 3\n",
    "outputNeurons = 1\n",
    "weightHiddenLayer = np.random.random(size = (inputNeurons, hiddenNeurons))\n",
    "biasHiddenLayer = np.random.random(size = (1,hiddenNeurons))\n",
    "weightOutputLayer = np.random.random(size = (hiddenNeurons,outputNeurons))\n",
    "biasOutputLayer = np.random.random(size = (1,outputNeurons))"
   ]
  },
  {
   "cell_type": "code",
   "execution_count": 46,
   "metadata": {},
   "outputs": [],
   "source": [
    "epochs = 50000\n",
    "learningRate = 0.1\n",
    "\n",
    "for epoch in range(epochs):\n",
    "    # Feedforward\n",
    "    hidden_x = X.dot(weightHiddenLayer) + biasHiddenLayer\n",
    "    hiddenLayerOutput = sigmoid(hidden_x)\n",
    "    \n",
    "    output_x = hiddenLayerOutput.dot(weightOutputLayer) + biasOutputLayer\n",
    "    output = sigmoid(output_x)\n",
    "    \n",
    "    #Backpropagation\n",
    "    error = y - output\n",
    "    slopeOutput = derivativeSigmoid(output)\n",
    "    slopeHidden = derivativeSigmoid(hiddenLayerOutput)\n",
    "    \n",
    "    deltaOutput = slopeOutput * error\n",
    "    errorHiddenLayer = deltaOutput.dot(weightOutputLayer.T)\n",
    "    deltaHiddenLayer = slopeHidden * errorHiddenLayer\n",
    "    \n",
    "    weightOutputLayer += hiddenLayerOutput.T.dot(deltaOutput) *learningRate\n",
    "    biasOutputLayer += np.sum(deltaOutput, axis=0,keepdims=True) *learningRate\n",
    "    weightHiddenLayer += X.T.dot(deltaHiddenLayer) *learningRate\n",
    "    biasHiddenLayer += np.sum(deltaHiddenLayer, axis=0,keepdims=True) *learningRate"
   ]
  },
  {
   "cell_type": "code",
   "execution_count": 47,
   "metadata": {},
   "outputs": [
    {
     "data": {
      "text/plain": [
       "array([[0.99439553],\n",
       "       [0.99142291],\n",
       "       [0.01251092]])"
      ]
     },
     "execution_count": 47,
     "metadata": {},
     "output_type": "execute_result"
    }
   ],
   "source": [
    "output"
   ]
  },
  {
   "cell_type": "code",
   "execution_count": null,
   "metadata": {},
   "outputs": [],
   "source": []
  }
 ],
 "metadata": {
  "kernelspec": {
   "display_name": "Python 3",
   "language": "python",
   "name": "python3"
  },
  "language_info": {
   "codemirror_mode": {
    "name": "ipython",
    "version": 3
   },
   "file_extension": ".py",
   "mimetype": "text/x-python",
   "name": "python",
   "nbconvert_exporter": "python",
   "pygments_lexer": "ipython3",
   "version": "3.7.3"
  }
 },
 "nbformat": 4,
 "nbformat_minor": 2
}
